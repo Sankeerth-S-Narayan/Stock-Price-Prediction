{
 "cells": [
  {
   "cell_type": "markdown",
   "id": "acc276c0",
   "metadata": {},
   "source": [
    "# Importing necessary libraries"
   ]
  },
  {
   "cell_type": "code",
   "execution_count": 1,
   "id": "f9507ea4",
   "metadata": {},
   "outputs": [],
   "source": [
    "import pandas as pd"
   ]
  },
  {
   "cell_type": "markdown",
   "id": "9c06055d",
   "metadata": {},
   "source": [
    "# Predicting based on user input"
   ]
  },
  {
   "cell_type": "markdown",
   "id": "ea261a36",
   "metadata": {},
   "source": [
    "## Check the stock data of the available companies"
   ]
  },
  {
   "cell_type": "markdown",
   "id": "050f5ddf",
   "metadata": {},
   "source": [
    "### -Apollo\n",
    "### -Bergepaint\n",
    "### -DLF\n",
    "### -Nestle India\n",
    "### -TCS\n",
    "### -HDFC\n",
    "### -Industower\n",
    "### -Infy\n",
    "### -IOC"
   ]
  },
  {
   "cell_type": "code",
   "execution_count": 2,
   "id": "b2e41998",
   "metadata": {},
   "outputs": [],
   "source": [
    "def readdata(a):\n",
    "    if (a==\"Apollo\" or a==\"apollo\"):\n",
    "        data=\"APOLLOHOSP.csv\"\n",
    "        company=\"Apollo\"\n",
    "    elif (a==\"Bergepaint\" or a==\"berge\" or a==\"berge paint\"):\n",
    "        data=\"BERGEPAINT.csv\"\n",
    "        company=\"Bergepaint\"\n",
    "    elif (a==\"DLF\" or a==\"dlf\"):\n",
    "        data=\"DLF.csv\"\n",
    "        company=\"DLF\"\n",
    "    elif (a==\"Nestle\" or a==\"Nestle India\" or a==\"nestle\"):\n",
    "        data=\"NESTLEIND.csv\"\n",
    "        company=\"Nestle India\"\n",
    "    elif (a==\"TCS\" or a==\"tcs\"):\n",
    "        data=\"TCS.csv\"\n",
    "        company=\"TCS\"\n",
    "    elif (a==\"HDFC\" or a==\"hdfc\"):\n",
    "        data=\"HDFC.csv\"\n",
    "        company=\"HDFC\"\n",
    "    elif (a==\"Industower\" or a==\"industower\"):\n",
    "        data=\"INDUSTOWER.csv\"\n",
    "        company=\"Industower\"\n",
    "    elif (a==\"Infy\" or a==\"infy\"):\n",
    "        data=\"INFY.csv\"\n",
    "        company=\"Infy\"\n",
    "    elif (a==\"IOC\" or a==\"ioc\"):\n",
    "        data=\"IOC.csv\"\n",
    "        company=\"IOC\"\n",
    "    else:\n",
    "        print(\"Enter valid input\")\n",
    "    return data,company\n",
    "    "
   ]
  },
  {
   "cell_type": "code",
   "execution_count": 3,
   "id": "096dce88",
   "metadata": {},
   "outputs": [
    {
     "name": "stdout",
     "output_type": "stream",
     "text": [
      "Enter the Stock data you wanna check:ioc\n"
     ]
    }
   ],
   "source": [
    "a=input(\"Enter the Stock data you wanna check:\")\n",
    "b,cmp=readdata(a)\n",
    "df=pd.read_csv(b)\n"
   ]
  },
  {
   "cell_type": "code",
   "execution_count": 4,
   "id": "2edeb097",
   "metadata": {},
   "outputs": [
    {
     "data": {
      "text/html": [
       "<div>\n",
       "<style scoped>\n",
       "    .dataframe tbody tr th:only-of-type {\n",
       "        vertical-align: middle;\n",
       "    }\n",
       "\n",
       "    .dataframe tbody tr th {\n",
       "        vertical-align: top;\n",
       "    }\n",
       "\n",
       "    .dataframe thead th {\n",
       "        text-align: right;\n",
       "    }\n",
       "</style>\n",
       "<table border=\"1\" class=\"dataframe\">\n",
       "  <thead>\n",
       "    <tr style=\"text-align: right;\">\n",
       "      <th></th>\n",
       "      <th>date</th>\n",
       "      <th>open</th>\n",
       "      <th>high</th>\n",
       "      <th>low</th>\n",
       "      <th>close</th>\n",
       "      <th>volume</th>\n",
       "    </tr>\n",
       "  </thead>\n",
       "  <tbody>\n",
       "    <tr>\n",
       "      <th>0</th>\n",
       "      <td>2015-02-02 09:15:00+05:30</td>\n",
       "      <td>86.75</td>\n",
       "      <td>86.75</td>\n",
       "      <td>85.07</td>\n",
       "      <td>86.00</td>\n",
       "      <td>949552</td>\n",
       "    </tr>\n",
       "    <tr>\n",
       "      <th>1</th>\n",
       "      <td>2015-02-02 09:45:00+05:30</td>\n",
       "      <td>86.00</td>\n",
       "      <td>86.53</td>\n",
       "      <td>85.75</td>\n",
       "      <td>85.79</td>\n",
       "      <td>313788</td>\n",
       "    </tr>\n",
       "    <tr>\n",
       "      <th>2</th>\n",
       "      <td>2015-02-02 10:15:00+05:30</td>\n",
       "      <td>85.85</td>\n",
       "      <td>85.99</td>\n",
       "      <td>85.52</td>\n",
       "      <td>85.85</td>\n",
       "      <td>82016</td>\n",
       "    </tr>\n",
       "    <tr>\n",
       "      <th>3</th>\n",
       "      <td>2015-02-02 10:45:00+05:30</td>\n",
       "      <td>85.85</td>\n",
       "      <td>85.98</td>\n",
       "      <td>85.70</td>\n",
       "      <td>85.80</td>\n",
       "      <td>44148</td>\n",
       "    </tr>\n",
       "    <tr>\n",
       "      <th>4</th>\n",
       "      <td>2015-02-02 11:15:00+05:30</td>\n",
       "      <td>85.80</td>\n",
       "      <td>86.04</td>\n",
       "      <td>85.73</td>\n",
       "      <td>85.94</td>\n",
       "      <td>38476</td>\n",
       "    </tr>\n",
       "    <tr>\n",
       "      <th>...</th>\n",
       "      <td>...</td>\n",
       "      <td>...</td>\n",
       "      <td>...</td>\n",
       "      <td>...</td>\n",
       "      <td>...</td>\n",
       "      <td>...</td>\n",
       "    </tr>\n",
       "    <tr>\n",
       "      <th>22605</th>\n",
       "      <td>2022-02-18 13:15:00+05:30</td>\n",
       "      <td>121.40</td>\n",
       "      <td>121.45</td>\n",
       "      <td>121.05</td>\n",
       "      <td>121.15</td>\n",
       "      <td>209946</td>\n",
       "    </tr>\n",
       "    <tr>\n",
       "      <th>22606</th>\n",
       "      <td>2022-02-18 13:45:00+05:30</td>\n",
       "      <td>121.20</td>\n",
       "      <td>121.30</td>\n",
       "      <td>121.05</td>\n",
       "      <td>121.05</td>\n",
       "      <td>162356</td>\n",
       "    </tr>\n",
       "    <tr>\n",
       "      <th>22607</th>\n",
       "      <td>2022-02-18 14:15:00+05:30</td>\n",
       "      <td>121.10</td>\n",
       "      <td>121.10</td>\n",
       "      <td>120.60</td>\n",
       "      <td>120.65</td>\n",
       "      <td>397808</td>\n",
       "    </tr>\n",
       "    <tr>\n",
       "      <th>22608</th>\n",
       "      <td>2022-02-18 14:45:00+05:30</td>\n",
       "      <td>120.65</td>\n",
       "      <td>121.25</td>\n",
       "      <td>120.60</td>\n",
       "      <td>121.10</td>\n",
       "      <td>480285</td>\n",
       "    </tr>\n",
       "    <tr>\n",
       "      <th>22609</th>\n",
       "      <td>2022-02-18 15:15:00+05:30</td>\n",
       "      <td>121.15</td>\n",
       "      <td>121.40</td>\n",
       "      <td>121.00</td>\n",
       "      <td>121.10</td>\n",
       "      <td>519723</td>\n",
       "    </tr>\n",
       "  </tbody>\n",
       "</table>\n",
       "<p>22610 rows × 6 columns</p>\n",
       "</div>"
      ],
      "text/plain": [
       "                            date    open    high     low   close  volume\n",
       "0      2015-02-02 09:15:00+05:30   86.75   86.75   85.07   86.00  949552\n",
       "1      2015-02-02 09:45:00+05:30   86.00   86.53   85.75   85.79  313788\n",
       "2      2015-02-02 10:15:00+05:30   85.85   85.99   85.52   85.85   82016\n",
       "3      2015-02-02 10:45:00+05:30   85.85   85.98   85.70   85.80   44148\n",
       "4      2015-02-02 11:15:00+05:30   85.80   86.04   85.73   85.94   38476\n",
       "...                          ...     ...     ...     ...     ...     ...\n",
       "22605  2022-02-18 13:15:00+05:30  121.40  121.45  121.05  121.15  209946\n",
       "22606  2022-02-18 13:45:00+05:30  121.20  121.30  121.05  121.05  162356\n",
       "22607  2022-02-18 14:15:00+05:30  121.10  121.10  120.60  120.65  397808\n",
       "22608  2022-02-18 14:45:00+05:30  120.65  121.25  120.60  121.10  480285\n",
       "22609  2022-02-18 15:15:00+05:30  121.15  121.40  121.00  121.10  519723\n",
       "\n",
       "[22610 rows x 6 columns]"
      ]
     },
     "execution_count": 4,
     "metadata": {},
     "output_type": "execute_result"
    }
   ],
   "source": [
    "df"
   ]
  },
  {
   "cell_type": "code",
   "execution_count": 5,
   "id": "03cdd060",
   "metadata": {},
   "outputs": [
    {
     "name": "stdout",
     "output_type": "stream",
     "text": [
      "Enter the Stock data you wanna check:ioc\n"
     ]
    }
   ],
   "source": [
    "c=input(\"Enter the Stock data you wanna check:\")\n",
    "d,cmp=readdata(c)\n",
    "df_test=pd.read_csv(d)"
   ]
  },
  {
   "cell_type": "code",
   "execution_count": 6,
   "id": "e1a2f546",
   "metadata": {},
   "outputs": [
    {
     "data": {
      "text/html": [
       "<div>\n",
       "<style scoped>\n",
       "    .dataframe tbody tr th:only-of-type {\n",
       "        vertical-align: middle;\n",
       "    }\n",
       "\n",
       "    .dataframe tbody tr th {\n",
       "        vertical-align: top;\n",
       "    }\n",
       "\n",
       "    .dataframe thead th {\n",
       "        text-align: right;\n",
       "    }\n",
       "</style>\n",
       "<table border=\"1\" class=\"dataframe\">\n",
       "  <thead>\n",
       "    <tr style=\"text-align: right;\">\n",
       "      <th></th>\n",
       "      <th>date</th>\n",
       "      <th>open</th>\n",
       "      <th>high</th>\n",
       "      <th>low</th>\n",
       "      <th>close</th>\n",
       "      <th>volume</th>\n",
       "    </tr>\n",
       "  </thead>\n",
       "  <tbody>\n",
       "    <tr>\n",
       "      <th>0</th>\n",
       "      <td>2015-02-02 09:15:00+05:30</td>\n",
       "      <td>86.75</td>\n",
       "      <td>86.75</td>\n",
       "      <td>85.07</td>\n",
       "      <td>86.00</td>\n",
       "      <td>949552</td>\n",
       "    </tr>\n",
       "    <tr>\n",
       "      <th>1</th>\n",
       "      <td>2015-02-02 09:45:00+05:30</td>\n",
       "      <td>86.00</td>\n",
       "      <td>86.53</td>\n",
       "      <td>85.75</td>\n",
       "      <td>85.79</td>\n",
       "      <td>313788</td>\n",
       "    </tr>\n",
       "    <tr>\n",
       "      <th>2</th>\n",
       "      <td>2015-02-02 10:15:00+05:30</td>\n",
       "      <td>85.85</td>\n",
       "      <td>85.99</td>\n",
       "      <td>85.52</td>\n",
       "      <td>85.85</td>\n",
       "      <td>82016</td>\n",
       "    </tr>\n",
       "    <tr>\n",
       "      <th>3</th>\n",
       "      <td>2015-02-02 10:45:00+05:30</td>\n",
       "      <td>85.85</td>\n",
       "      <td>85.98</td>\n",
       "      <td>85.70</td>\n",
       "      <td>85.80</td>\n",
       "      <td>44148</td>\n",
       "    </tr>\n",
       "    <tr>\n",
       "      <th>4</th>\n",
       "      <td>2015-02-02 11:15:00+05:30</td>\n",
       "      <td>85.80</td>\n",
       "      <td>86.04</td>\n",
       "      <td>85.73</td>\n",
       "      <td>85.94</td>\n",
       "      <td>38476</td>\n",
       "    </tr>\n",
       "    <tr>\n",
       "      <th>...</th>\n",
       "      <td>...</td>\n",
       "      <td>...</td>\n",
       "      <td>...</td>\n",
       "      <td>...</td>\n",
       "      <td>...</td>\n",
       "      <td>...</td>\n",
       "    </tr>\n",
       "    <tr>\n",
       "      <th>22605</th>\n",
       "      <td>2022-02-18 13:15:00+05:30</td>\n",
       "      <td>121.40</td>\n",
       "      <td>121.45</td>\n",
       "      <td>121.05</td>\n",
       "      <td>121.15</td>\n",
       "      <td>209946</td>\n",
       "    </tr>\n",
       "    <tr>\n",
       "      <th>22606</th>\n",
       "      <td>2022-02-18 13:45:00+05:30</td>\n",
       "      <td>121.20</td>\n",
       "      <td>121.30</td>\n",
       "      <td>121.05</td>\n",
       "      <td>121.05</td>\n",
       "      <td>162356</td>\n",
       "    </tr>\n",
       "    <tr>\n",
       "      <th>22607</th>\n",
       "      <td>2022-02-18 14:15:00+05:30</td>\n",
       "      <td>121.10</td>\n",
       "      <td>121.10</td>\n",
       "      <td>120.60</td>\n",
       "      <td>120.65</td>\n",
       "      <td>397808</td>\n",
       "    </tr>\n",
       "    <tr>\n",
       "      <th>22608</th>\n",
       "      <td>2022-02-18 14:45:00+05:30</td>\n",
       "      <td>120.65</td>\n",
       "      <td>121.25</td>\n",
       "      <td>120.60</td>\n",
       "      <td>121.10</td>\n",
       "      <td>480285</td>\n",
       "    </tr>\n",
       "    <tr>\n",
       "      <th>22609</th>\n",
       "      <td>2022-02-18 15:15:00+05:30</td>\n",
       "      <td>121.15</td>\n",
       "      <td>121.40</td>\n",
       "      <td>121.00</td>\n",
       "      <td>121.10</td>\n",
       "      <td>519723</td>\n",
       "    </tr>\n",
       "  </tbody>\n",
       "</table>\n",
       "<p>22610 rows × 6 columns</p>\n",
       "</div>"
      ],
      "text/plain": [
       "                            date    open    high     low   close  volume\n",
       "0      2015-02-02 09:15:00+05:30   86.75   86.75   85.07   86.00  949552\n",
       "1      2015-02-02 09:45:00+05:30   86.00   86.53   85.75   85.79  313788\n",
       "2      2015-02-02 10:15:00+05:30   85.85   85.99   85.52   85.85   82016\n",
       "3      2015-02-02 10:45:00+05:30   85.85   85.98   85.70   85.80   44148\n",
       "4      2015-02-02 11:15:00+05:30   85.80   86.04   85.73   85.94   38476\n",
       "...                          ...     ...     ...     ...     ...     ...\n",
       "22605  2022-02-18 13:15:00+05:30  121.40  121.45  121.05  121.15  209946\n",
       "22606  2022-02-18 13:45:00+05:30  121.20  121.30  121.05  121.05  162356\n",
       "22607  2022-02-18 14:15:00+05:30  121.10  121.10  120.60  120.65  397808\n",
       "22608  2022-02-18 14:45:00+05:30  120.65  121.25  120.60  121.10  480285\n",
       "22609  2022-02-18 15:15:00+05:30  121.15  121.40  121.00  121.10  519723\n",
       "\n",
       "[22610 rows x 6 columns]"
      ]
     },
     "execution_count": 6,
     "metadata": {},
     "output_type": "execute_result"
    }
   ],
   "source": [
    "df_test"
   ]
  },
  {
   "cell_type": "code",
   "execution_count": 7,
   "id": "2d2a5960",
   "metadata": {},
   "outputs": [
    {
     "name": "stdout",
     "output_type": "stream",
     "text": [
      "Stored 'df' (DataFrame)\n"
     ]
    }
   ],
   "source": [
    "%store df"
   ]
  },
  {
   "cell_type": "code",
   "execution_count": 8,
   "id": "5a280926",
   "metadata": {},
   "outputs": [
    {
     "name": "stdout",
     "output_type": "stream",
     "text": [
      "Stored 'df_test' (DataFrame)\n"
     ]
    }
   ],
   "source": [
    "%store df_test"
   ]
  },
  {
   "cell_type": "code",
   "execution_count": 9,
   "id": "92de73ca",
   "metadata": {},
   "outputs": [
    {
     "data": {
      "text/plain": [
       "'IOC'"
      ]
     },
     "execution_count": 9,
     "metadata": {},
     "output_type": "execute_result"
    }
   ],
   "source": [
    "cmp"
   ]
  },
  {
   "cell_type": "code",
   "execution_count": 10,
   "id": "bbb0abb7",
   "metadata": {},
   "outputs": [
    {
     "name": "stdout",
     "output_type": "stream",
     "text": [
      "Stored 'cmp' (str)\n"
     ]
    }
   ],
   "source": [
    "%store cmp"
   ]
  }
 ],
 "metadata": {
  "kernelspec": {
   "display_name": "Python 3 (ipykernel)",
   "language": "python",
   "name": "python3"
  },
  "language_info": {
   "codemirror_mode": {
    "name": "ipython",
    "version": 3
   },
   "file_extension": ".py",
   "mimetype": "text/x-python",
   "name": "python",
   "nbconvert_exporter": "python",
   "pygments_lexer": "ipython3",
   "version": "3.9.12"
  }
 },
 "nbformat": 4,
 "nbformat_minor": 5
}
